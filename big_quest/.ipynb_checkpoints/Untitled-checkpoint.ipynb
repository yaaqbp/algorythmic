{
 "cells": [
  {
   "cell_type": "code",
   "execution_count": 2,
   "metadata": {},
   "outputs": [],
   "source": [
    "import pandas as pd\n",
    "import matplotlib.pyplot\n",
    "import random\n",
    "random.seed(123)"
   ]
  },
  {
   "cell_type": "code",
   "execution_count": 160,
   "metadata": {},
   "outputs": [],
   "source": [
    "def shell_sort(tab, method = 'Shell'):\n",
    "    N = len(tab)\n",
    "    seq = create_seq(N, method)\n",
    "    for step in seq:\n",
    "        for i in range(step, N):\n",
    "            tmp = tab[i]\n",
    "            j = i\n",
    "            while ((tab[j-step] > tmp) and (j >= step)):\n",
    "                tab[j] = tab[j - step]\n",
    "                j -= step\n",
    "            tab[j] = tmp\n",
    "            "
   ]
  },
  {
   "cell_type": "code",
   "execution_count": 201,
   "metadata": {},
   "outputs": [
    {
     "data": {
      "text/plain": [
       "True"
      ]
     },
     "execution_count": 201,
     "metadata": {},
     "output_type": "execute_result"
    }
   ],
   "source": [
    "tab = [random.randint(0,10000) for i in range(100000)]\n",
    "shell_sort(tab, method = 'Knuth')\n",
    "tab == sorted(tab)\n"
   ]
  },
  {
   "cell_type": "code",
   "execution_count": 195,
   "metadata": {},
   "outputs": [],
   "source": [
    "def create_seq(N, method):\n",
    "    tab = []\n",
    "    \n",
    "    if method == 'Shell':\n",
    "        ele = N//2\n",
    "        while ele >= 1:\n",
    "            tab.append(ele)\n",
    "            ele = ele // 2\n",
    "            \n",
    "    if method == 'Lazarus':\n",
    "        ele = 2 * N//4 + 1\n",
    "        i = 3\n",
    "        while ele > 1: \n",
    "            tab.append(ele)\n",
    "            ele = 2 * int(N/2**i) +1\n",
    "            i+=1\n",
    "        tab.append(1)\n",
    "            \n",
    "    elif method == 'Hibbard':\n",
    "        ele = 1\n",
    "        i = 2\n",
    "        while ele < N:\n",
    "            tab.append(ele)\n",
    "            ele = 2**i - 1\n",
    "            i+=1\n",
    "        tab.reverse()\n",
    "        \n",
    "    elif method == 'Stasiewicz':\n",
    "        ele = 1\n",
    "        i = 1\n",
    "        while ele < N:\n",
    "            tab.append(ele)\n",
    "            ele = 2**i + 1\n",
    "            i+=1\n",
    "        tab.reverse()\n",
    "    elif method == 'Knuth':\n",
    "        ele = 1\n",
    "        i = 2\n",
    "        while ele < int(N/3)+1:\n",
    "            tab.append(ele)\n",
    "            ele = ((3**i)-1)//2\n",
    "            i+=1\n",
    "        tab.reverse()\n",
    "    elif method == 'Sedgewick':\n",
    "        ele = 1\n",
    "        i = 1\n",
    "        while ele < N:\n",
    "            tab.append(ele)\n",
    "            ele = 4**i + 3 * 2**(i-1) + 1\n",
    "            i+=1\n",
    "        tab.reverse()\n",
    "    return tab\n"
   ]
  },
  {
   "cell_type": "code",
   "execution_count": 197,
   "metadata": {},
   "outputs": [
    {
     "data": {
      "text/plain": [
       "[262913, 65921, 16577, 4193, 1073, 281, 77, 23, 8, 1]"
      ]
     },
     "execution_count": 197,
     "metadata": {},
     "output_type": "execute_result"
    }
   ],
   "source": [
    "create_seq(1000000, 'Sedgewick')"
   ]
  },
  {
   "cell_type": "markdown",
   "metadata": {},
   "source": [
    "$$\n",
    "  \\int_0^\\infty \\frac{x^3}{e^x-1}\\,dx = \\frac{\\pi^4}{15}\n",
    "$$"
   ]
  },
  {
   "cell_type": "markdown",
   "metadata": {},
   "source": [
    "$$\n",
    "  \\int_0^\\infty \\frac{x^3}{e^x-1}\\,dx = \\frac{\\pi^4}{15}\n",
    "$$"
   ]
  },
  {
   "cell_type": "code",
   "execution_count": null,
   "metadata": {},
   "outputs": [],
   "source": []
  }
 ],
 "metadata": {
  "kernelspec": {
   "display_name": "Python 3",
   "language": "python",
   "name": "python3"
  },
  "language_info": {
   "codemirror_mode": {
    "name": "ipython",
    "version": 3
   },
   "file_extension": ".py",
   "mimetype": "text/x-python",
   "name": "python",
   "nbconvert_exporter": "python",
   "pygments_lexer": "ipython3",
   "version": "3.8.12"
  }
 },
 "nbformat": 4,
 "nbformat_minor": 4
}
