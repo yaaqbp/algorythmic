{
 "cells": [
  {
   "cell_type": "code",
   "execution_count": 4,
   "metadata": {},
   "outputs": [],
   "source": [
    "import time\n",
    "import random\n",
    "import pandas as pd\n",
    "import matplotlib.pyplot as plt \n",
    "plt.style.use('seaborn')"
   ]
  },
  {
   "cell_type": "markdown",
   "metadata": {},
   "source": [
    "# Nazewnictwo\n",
    "insert_sort to funkcja podstawowa, która była dalej modyfikowana. Dodatek w nazwie \"_wo_condition\" wskazuje na brak testowania warunku wg zadania z teams. \n"
   ]
  },
  {
   "cell_type": "code",
   "execution_count": 176,
   "metadata": {},
   "outputs": [],
   "source": [
    "def replace_min(source):\n",
    "    if len(source) > 0:\n",
    "        for i in range(len(source)):\n",
    "            if source[i] == min(source):\n",
    "                source[i], source[0] = source[0], source[i]\n",
    "                break"
   ]
  },
  {
   "cell_type": "code",
   "execution_count": 177,
   "metadata": {},
   "outputs": [],
   "source": [
    "def insert_sort(source):\n",
    "    for i in range(1, len(source)):\n",
    "        temp = source[i]\n",
    "        j = i - 1\n",
    "        while(j>=0 and source[j]>temp):\n",
    "            source[j+1] = source[j]\n",
    "            j-=1\n",
    "        source[j+1] = temp\n",
    "    return source"
   ]
  },
  {
   "cell_type": "code",
   "execution_count": 178,
   "metadata": {},
   "outputs": [],
   "source": [
    "def insert_sort_wo_condition(source):\n",
    "    replace_min(source)\n",
    "    for i in range(1, len(source)):\n",
    "        temp = source[i]\n",
    "        j = i - 1\n",
    "        while(source[j]>temp):\n",
    "            source[j+1] = source[j]\n",
    "            j-=1\n",
    "        source[j+1] = temp\n",
    "    return source"
   ]
  },
  {
   "cell_type": "markdown",
   "metadata": {},
   "source": [
    "# Sprawdzam czy wszystkie funkcje dobrze działają, tzn porównuję działanie ich wyniku do wbudowanej funkcji sorted"
   ]
  },
  {
   "cell_type": "code",
   "execution_count": 179,
   "metadata": {},
   "outputs": [
    {
     "name": "stdout",
     "output_type": "stream",
     "text": [
      "<function insert_sort at 0x7fd594fd2430>\n",
      "True\n",
      "<function insert_sort_wo_condition at 0x7fd594e13040>\n",
      "True\n"
     ]
    }
   ],
   "source": [
    "functions = [insert_sort, insert_sort_wo_condition]\n",
    "for function in functions:\n",
    "    tab = [random.randint(0,999) for _ in range(100)]\n",
    "    old = tab.copy()\n",
    "    print(\"{}\".format(function))\n",
    "    print(function(tab) == sorted(old))"
   ]
  },
  {
   "cell_type": "markdown",
   "metadata": {},
   "source": [
    "# Porownanie czasu dla list o dlugości do 10k elementów"
   ]
  },
  {
   "cell_type": "code",
   "execution_count": 180,
   "metadata": {},
   "outputs": [],
   "source": [
    "def checker(sorted_func):\n",
    "    timing = []\n",
    "    for i in range(0,100,10):\n",
    "        lst = [random.randint(1,9) for i in range(100*i)]\n",
    "        start = time.time()\n",
    "        sorted_func(lst)\n",
    "        end = time.time()\n",
    "        timing.append(end - start)\n",
    "    return timing"
   ]
  },
  {
   "cell_type": "code",
   "execution_count": 181,
   "metadata": {},
   "outputs": [],
   "source": [
    "probes = [i*1000 for i in range(10)]\n",
    "df = pd.DataFrame(probes,columns = ['len'])\n",
    "df['insert_sort'] = checker(insert_sort)\n",
    "df['insert_sort_wo_condition'] = checker(insert_sort_wo_condition)"
   ]
  },
  {
   "cell_type": "code",
   "execution_count": 182,
   "metadata": {},
   "outputs": [
    {
     "data": {
      "text/plain": [
       "Text(0, 0.5, 'timing[s]')"
      ]
     },
     "execution_count": 182,
     "metadata": {},
     "output_type": "execute_result"
    },
    {
     "data": {
      "image/png": "[encoded data removed]",
      "text/plain": [
       "<Figure size 576x396 with 1 Axes>"
      ]
     },
     "metadata": {},
     "output_type": "display_data"
    }
   ],
   "source": [
    "fig, ax = plt.subplots()\n",
    "ax.plot(df.len,df.insert_sort, label = 'insert_sort')\n",
    "ax.plot(df.len, df.insert_sort_wo_condition, label = 'insert_sort_wo_condition')\n",
    "ax.legend()\n",
    "ax.set_xlabel('list length')\n",
    "ax.set_ylabel('timing[s]')"
   ]
  },
  {
   "cell_type": "markdown",
   "metadata": {},
   "source": [
    "# autor\n",
    "## jakub pietraszek\n"
   ]
  }
 ],
 "metadata": {
  "kernelspec": {
   "display_name": "Python 3",
   "language": "python",
   "name": "python3"
  },
  "language_info": {
   "codemirror_mode": {
    "name": "ipython",
    "version": 3
   },
   "file_extension": ".py",
   "mimetype": "text/x-python",
   "name": "python",
   "nbconvert_exporter": "python",
   "pygments_lexer": "ipython3",
   "version": "3.8.12"
  }
 },
 "nbformat": 4,
 "nbformat_minor": 4
}
